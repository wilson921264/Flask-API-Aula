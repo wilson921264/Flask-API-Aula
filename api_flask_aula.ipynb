{
  "cells": [
    {
      "cell_type": "markdown",
      "metadata": {
        "id": "view-in-github",
        "colab_type": "text"
      },
      "source": [
        "<a href=\"https://colab.research.google.com/github/wilson921264/Flask-API-Aula/blob/main/api_flask_aula.ipynb\" target=\"_parent\"><img src=\"https://colab.research.google.com/assets/colab-badge.svg\" alt=\"Open In Colab\"/></a>"
      ]
    },
    {
      "cell_type": "code",
      "execution_count": null,
      "metadata": {
        "id": "2hXOwZw09b2S"
      },
      "outputs": [],
      "source": [
        "!pip install flask_ngrok\n"
      ]
    },
    {
      "cell_type": "code",
      "execution_count": null,
      "metadata": {
        "id": "gd4BQZgY-Pod"
      },
      "outputs": [],
      "source": [
        "import pandas as pd\n",
        "from flask_ngrok import run_with_ngrok\n",
        "from flask import request, jsonify, Flask\n",
        "import random as rk"
      ]
    },
    {
      "cell_type": "code",
      "execution_count": null,
      "metadata": {
        "id": "rGXIGaaJ-eiY"
      },
      "outputs": [],
      "source": [
        "app = Flask(__name__) #the name of the application package\n",
        "run_with_ngrok(app)"
      ]
    },
    {
      "cell_type": "code",
      "execution_count": null,
      "metadata": {
        "id": "4tFgZzp--mUA"
      },
      "outputs": [],
      "source": [
        "d = [{\"index\": 1,\n",
        "     \"nome\": \"Nome1\",\n",
        "     \"idade\": \"Idade1\",\n",
        "     \"cidade\": \"Cidade1\",\n",
        "     \"pais\": \"País1\"\n",
        "  },\n",
        "  {\n",
        "    \"index\": 2,\n",
        "    \"nome\": \"Nome2\",\n",
        "    \"idade\": \"Idade2\",\n",
        "    \"cidade\": \"Cidade2\",\n",
        "    \"pais\": \"País2\"\n",
        "  },\n",
        "  {\n",
        "    \"index\": 3,\n",
        "    \"nome\": \"Nome3\",\n",
        "    \"idade\": \"Idade3\",\n",
        "    \"cidade\": \"Cidade3\",\n",
        "    \"pais\": \"País3\"\n",
        "  },\n",
        "  {\n",
        "    \"index\": 4,\n",
        "    \"nome\": \"Nome4\",\n",
        "    \"idade\": \"Idade4\",\n",
        "    \"cidade\": \"Cidade4\",\n",
        "    \"pais\": \"País4\"\n",
        "  }\n",
        "]\n"
      ]
    },
    {
      "cell_type": "code",
      "execution_count": null,
      "metadata": {
        "id": "gQ8XIb3e-xn-"
      },
      "outputs": [],
      "source": [
        "@app.route(\"/\") #code to assign HomePage URL in our app to function home.\n",
        "\n",
        "def home():\n",
        "  '''\n",
        "  The entire line below must be written in a single line.\n",
        "  '''\n",
        "  return \"<marquee><h3> TO CHECK IN PUT ADD '/input' TO THE URL AND TO CHECK OUT PUT ADD '/output' TO THE URL.</h3></marquee>\""
      ]
    },
    {
      "cell_type": "code",
      "execution_count": null,
      "metadata": {
        "id": "RhOB_8NI-3x2"
      },
      "outputs": [],
      "source": [
        "@app.route(\"/input\") #code to assign Input URL in our app to function input.\n",
        "\n",
        "def input():\n",
        "  return jsonify(d) # \"d\" is the dictionary we defined"
      ]
    },
    {
      "cell_type": "code",
      "execution_count": null,
      "metadata": {
        "id": "leQIwJoF_Aal"
      },
      "outputs": [],
      "source": [
        "@app.route('/output', methods=['GET','POST']) #output page\n",
        "\n",
        "def predJson():\n",
        " pred = r.choice([\"positive\",\"negative\"])\n",
        " nd = d # our input\n",
        " nd[\"prediction\"]=pred\n",
        " return jsonify(nd)\n",
        "\n",
        "app.run()"
      ]
    }
  ],
  "metadata": {
    "colab": {
      "provenance": [],
      "name": "api-flask-aula.ipynb",
      "include_colab_link": true
    },
    "kernelspec": {
      "display_name": "Python 3",
      "name": "python3"
    },
    "language_info": {
      "name": "python"
    }
  },
  "nbformat": 4,
  "nbformat_minor": 0
}